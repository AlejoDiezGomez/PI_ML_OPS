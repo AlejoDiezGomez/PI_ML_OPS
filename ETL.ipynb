{
 "cells": [
  {
   "cell_type": "markdown",
   "metadata": {},
   "source": [
    "# Proceso de ETL en los 3 Data Set  / ETL process in the 3 Data Set"
   ]
  },
  {
   "cell_type": "markdown",
   "metadata": {},
   "source": [
    "### Importamos galerias a utilizar / We import galleries to use"
   ]
  },
  {
   "cell_type": "code",
   "execution_count": 1,
   "metadata": {},
   "outputs": [],
   "source": [
    "import pandas as pd\n",
    "import json"
   ]
  },
  {
   "cell_type": "markdown",
   "metadata": {},
   "source": [
    "## DataSet Out Put steam games\n"
   ]
  },
  {
   "cell_type": "markdown",
   "metadata": {},
   "source": [
    "### Cargamos el archivo .json en un dataframe / We load the .json file into a dataframe"
   ]
  },
  {
   "cell_type": "code",
   "execution_count": 4,
   "metadata": {},
   "outputs": [
    {
     "name": "stderr",
     "output_type": "stream",
     "text": [
      "<>:3: SyntaxWarning: invalid escape sequence '\\P'\n",
      "<>:3: SyntaxWarning: invalid escape sequence '\\P'\n",
      "C:\\Users\\alejo\\AppData\\Local\\Temp\\ipykernel_14324\\2203093654.py:3: SyntaxWarning: invalid escape sequence '\\P'\n",
      "  with open('DataSet\\PI MLOps - STEAM\\output_steam_games.json') as e:\n"
     ]
    }
   ],
   "source": [
    "\n",
    "data = []\n",
    "with open('DataSet\\PI MLOps - STEAM\\output_steam_games.json') as e:\n",
    "    for line in e:\n",
    "        data.append(json.loads(line))\n",
    "dfgames = pd.DataFrame(data)\n",
    "\n"
   ]
  },
  {
   "cell_type": "markdown",
   "metadata": {},
   "source": [
    "### Borro valores faltantes  / I delete missing values"
   ]
  },
  {
   "cell_type": "code",
   "execution_count": 5,
   "metadata": {},
   "outputs": [],
   "source": [
    "dfgames = dfgames.dropna() "
   ]
  },
  {
   "cell_type": "markdown",
   "metadata": {},
   "source": [
    "### Visualizacion de las columnas / Column display"
   ]
  },
  {
   "cell_type": "code",
   "execution_count": 6,
   "metadata": {},
   "outputs": [
    {
     "data": {
      "text/plain": [
       "Index(['publisher', 'genres', 'app_name', 'title', 'url', 'release_date',\n",
       "       'tags', 'reviews_url', 'specs', 'price', 'early_access', 'id',\n",
       "       'developer'],\n",
       "      dtype='object')"
      ]
     },
     "execution_count": 6,
     "metadata": {},
     "output_type": "execute_result"
    }
   ],
   "source": [
    "dfgames.columns "
   ]
  },
  {
   "cell_type": "markdown",
   "metadata": {},
   "source": [
    "### Borro las columnas que no necesito / I delete the columns I don't need"
   ]
  },
  {
   "cell_type": "code",
   "execution_count": 7,
   "metadata": {},
   "outputs": [],
   "source": [
    "\n",
    "dfgames = dfgames.drop(['publisher', 'reviews_url','url','tags', 'app_name', 'specs', 'price', 'early_access', 'developer'], axis=1)"
   ]
  },
  {
   "cell_type": "markdown",
   "metadata": {},
   "source": [
    "### Creamos dummys para genres / We create dummies for genres"
   ]
  },
  {
   "cell_type": "code",
   "execution_count": null,
   "metadata": {},
   "outputs": [],
   "source": [
    "dfgames['genres'] = dfgames['genres'].fillna('[]')  # Rellenar los valores faltantes con una lista vacía / fill missing values ​​with empty list\n",
    "dfgames['genres'] = dfgames['genres'].apply(lambda x: ', '.join(x))  # Convertir la lista de géneros a una cadena separada por comas / Convert genre list to comma separated string\n"
   ]
  },
  {
   "cell_type": "markdown",
   "metadata": {},
   "source": [
    "### Crear variables ficticias para los géneros / Create dummy variables for genres"
   ]
  },
  {
   "cell_type": "code",
   "execution_count": null,
   "metadata": {},
   "outputs": [],
   "source": [
    "\n",
    "dummy_genres = dfgames['genres'].str.get_dummies(', ')"
   ]
  },
  {
   "cell_type": "markdown",
   "metadata": {},
   "source": [
    "### Concatenar las variables ficticias con el DataFrame original / Concatenate the dummy variables with the original DataFrame "
   ]
  },
  {
   "cell_type": "code",
   "execution_count": null,
   "metadata": {},
   "outputs": [],
   "source": [
    "\n",
    "dfgames_with_dummies = pd.concat([dfgames, dummy_genres], axis=1)"
   ]
  },
  {
   "cell_type": "code",
   "execution_count": 9,
   "metadata": {},
   "outputs": [
    {
     "name": "stdout",
     "output_type": "stream",
     "text": [
      "                                                 genres  \\\n",
      "88310       Action, Casual, Indie, Simulation, Strategy   \n",
      "88311                Free to Play, Indie, RPG, Strategy   \n",
      "88312   Casual, Free to Play, Indie, Simulation, Sports   \n",
      "88313                         Action, Adventure, Casual   \n",
      "88315                     Action, Adventure, Simulation   \n",
      "...                                                 ...   \n",
      "120439                 Action, Adventure, Casual, Indie   \n",
      "120440              Casual, Indie, Simulation, Strategy   \n",
      "120441                          Casual, Indie, Strategy   \n",
      "120442                        Indie, Racing, Simulation   \n",
      "120443                                    Casual, Indie   \n",
      "\n",
      "                           title release_date      id  Action  Adventure  \\\n",
      "88310        Lost Summoner Kitty   2018-01-04  761140       1          0   \n",
      "88311                  Ironbound   2018-01-04  643980       0          0   \n",
      "88312    Real Pool 3D - Poolians   2017-07-24  670290       0          0   \n",
      "88313                    弹炸人2222   2017-12-07  767400       1          1   \n",
      "88315      Battle Royale Trainer   2018-01-04  772540       1          1   \n",
      "...                          ...          ...     ...     ...        ...   \n",
      "120439              Kebab it Up!   2018-01-04  745400       1          1   \n",
      "120440            Colony On Mars   2018-01-04  773640       0          0   \n",
      "120441  LOGistICAL: South Africa   2018-01-04  733530       0          0   \n",
      "120442             Russian Roads   2018-01-04  610660       0          0   \n",
      "120443       EXIT 2 - Directions   2017-09-02  658870       0          0   \n",
      "\n",
      "        Animation &amp; Modeling  Audio Production  Casual  \\\n",
      "88310                          0                 0       1   \n",
      "88311                          0                 0       0   \n",
      "88312                          0                 0       1   \n",
      "88313                          0                 0       1   \n",
      "88315                          0                 0       0   \n",
      "...                          ...               ...     ...   \n",
      "120439                         0                 0       1   \n",
      "120440                         0                 0       1   \n",
      "120441                         0                 0       1   \n",
      "120442                         0                 0       0   \n",
      "120443                         0                 0       1   \n",
      "\n",
      "        Design &amp; Illustration  ...  Photo Editing  RPG  Racing  \\\n",
      "88310                           0  ...              0    0       0   \n",
      "88311                           0  ...              0    1       0   \n",
      "88312                           0  ...              0    0       0   \n",
      "88313                           0  ...              0    0       0   \n",
      "88315                           0  ...              0    0       0   \n",
      "...                           ...  ...            ...  ...     ...   \n",
      "120439                          0  ...              0    0       0   \n",
      "120440                          0  ...              0    0       0   \n",
      "120441                          0  ...              0    0       0   \n",
      "120442                          0  ...              0    0       1   \n",
      "120443                          0  ...              0    0       0   \n",
      "\n",
      "        Simulation  Software Training  Sports  Strategy  Utilities  \\\n",
      "88310            1                  0       0         1          0   \n",
      "88311            0                  0       0         1          0   \n",
      "88312            1                  0       1         0          0   \n",
      "88313            0                  0       0         0          0   \n",
      "88315            1                  0       0         0          0   \n",
      "...            ...                ...     ...       ...        ...   \n",
      "120439           0                  0       0         0          0   \n",
      "120440           1                  0       0         1          0   \n",
      "120441           0                  0       0         1          0   \n",
      "120442           1                  0       0         0          0   \n",
      "120443           0                  0       0         0          0   \n",
      "\n",
      "        Video Production  Web Publishing  \n",
      "88310                  0               0  \n",
      "88311                  0               0  \n",
      "88312                  0               0  \n",
      "88313                  0               0  \n",
      "88315                  0               0  \n",
      "...                  ...             ...  \n",
      "120439                 0               0  \n",
      "120440                 0               0  \n",
      "120441                 0               0  \n",
      "120442                 0               0  \n",
      "120443                 0               0  \n",
      "\n",
      "[22530 rows x 25 columns]\n"
     ]
    }
   ],
   "source": [
    "print(dfgames_with_dummies)"
   ]
  },
  {
   "cell_type": "markdown",
   "metadata": {},
   "source": [
    "### De la columna release_date extraigo solo el año / From the release_date column I extract only the year\n"
   ]
  },
  {
   "cell_type": "code",
   "execution_count": 11,
   "metadata": {},
   "outputs": [
    {
     "name": "stderr",
     "output_type": "stream",
     "text": [
      "C:\\Users\\alejo\\AppData\\Local\\Temp\\ipykernel_14324\\2930503749.py:7: SettingWithCopyWarning: \n",
      "A value is trying to be set on a copy of a slice from a DataFrame.\n",
      "Try using .loc[row_indexer,col_indexer] = value instead\n",
      "\n",
      "See the caveats in the documentation: https://pandas.pydata.org/pandas-docs/stable/user_guide/indexing.html#returning-a-view-versus-a-copy\n",
      "  df_filtered[\"release_date\"] = pd.to_datetime(df_filtered[\"release_date\"])\n"
     ]
    }
   ],
   "source": [
    "dfgames = dfgames_with_dummies\n",
    "# Reemplazar los valores no válidos por NaN / Replace invalid values ​​with NaN\n",
    "dfgames[\"release_date\"] = pd.to_datetime(dfgames[\"release_date\"], errors='coerce')\n",
    "# Filtrar el DataFrame para obtener los registros válidos / Filter the DataFrame to get valid records\n",
    "df_filtered = dfgames.dropna(subset=[\"release_date\"])\n",
    "# Convertir la columna \"release_date\" a tipo datetime / Convert \"release_date\" column to datetime type\n",
    "df_filtered[\"release_date\"] = pd.to_datetime(df_filtered[\"release_date\"])\n",
    "# Rellenando los valores faltantes en las columna'release_date' con la moda / Filling missing values ​​in 'release_date' columns with mode\n",
    "columns_fill_mode = ['release_date']\n",
    "for col in columns_fill_mode:\n",
    "    dfgames[col].fillna(dfgames[col].mode()[0], inplace=True)\n",
    "# Modelado y eliminación de la columna 'release_date' / Modeling and removing 'release_date' column\n",
    "dfgames['year'] = dfgames['release_date'].dt.year.astype('Int64')\n",
    "dfgames.drop('release_date', axis=1, inplace=True)"
   ]
  },
  {
   "cell_type": "code",
   "execution_count": 12,
   "metadata": {},
   "outputs": [
    {
     "data": {
      "text/html": [
       "<div>\n",
       "<style scoped>\n",
       "    .dataframe tbody tr th:only-of-type {\n",
       "        vertical-align: middle;\n",
       "    }\n",
       "\n",
       "    .dataframe tbody tr th {\n",
       "        vertical-align: top;\n",
       "    }\n",
       "\n",
       "    .dataframe thead th {\n",
       "        text-align: right;\n",
       "    }\n",
       "</style>\n",
       "<table border=\"1\" class=\"dataframe\">\n",
       "  <thead>\n",
       "    <tr style=\"text-align: right;\">\n",
       "      <th></th>\n",
       "      <th>genres</th>\n",
       "      <th>title</th>\n",
       "      <th>id</th>\n",
       "      <th>Action</th>\n",
       "      <th>Adventure</th>\n",
       "      <th>Animation &amp;amp; Modeling</th>\n",
       "      <th>Audio Production</th>\n",
       "      <th>Casual</th>\n",
       "      <th>Design &amp;amp; Illustration</th>\n",
       "      <th>Early Access</th>\n",
       "      <th>...</th>\n",
       "      <th>RPG</th>\n",
       "      <th>Racing</th>\n",
       "      <th>Simulation</th>\n",
       "      <th>Software Training</th>\n",
       "      <th>Sports</th>\n",
       "      <th>Strategy</th>\n",
       "      <th>Utilities</th>\n",
       "      <th>Video Production</th>\n",
       "      <th>Web Publishing</th>\n",
       "      <th>year</th>\n",
       "    </tr>\n",
       "  </thead>\n",
       "  <tbody>\n",
       "    <tr>\n",
       "      <th>88310</th>\n",
       "      <td>Action, Casual, Indie, Simulation, Strategy</td>\n",
       "      <td>Lost Summoner Kitty</td>\n",
       "      <td>761140</td>\n",
       "      <td>1</td>\n",
       "      <td>0</td>\n",
       "      <td>0</td>\n",
       "      <td>0</td>\n",
       "      <td>1</td>\n",
       "      <td>0</td>\n",
       "      <td>0</td>\n",
       "      <td>...</td>\n",
       "      <td>0</td>\n",
       "      <td>0</td>\n",
       "      <td>1</td>\n",
       "      <td>0</td>\n",
       "      <td>0</td>\n",
       "      <td>1</td>\n",
       "      <td>0</td>\n",
       "      <td>0</td>\n",
       "      <td>0</td>\n",
       "      <td>2018</td>\n",
       "    </tr>\n",
       "    <tr>\n",
       "      <th>88311</th>\n",
       "      <td>Free to Play, Indie, RPG, Strategy</td>\n",
       "      <td>Ironbound</td>\n",
       "      <td>643980</td>\n",
       "      <td>0</td>\n",
       "      <td>0</td>\n",
       "      <td>0</td>\n",
       "      <td>0</td>\n",
       "      <td>0</td>\n",
       "      <td>0</td>\n",
       "      <td>0</td>\n",
       "      <td>...</td>\n",
       "      <td>1</td>\n",
       "      <td>0</td>\n",
       "      <td>0</td>\n",
       "      <td>0</td>\n",
       "      <td>0</td>\n",
       "      <td>1</td>\n",
       "      <td>0</td>\n",
       "      <td>0</td>\n",
       "      <td>0</td>\n",
       "      <td>2018</td>\n",
       "    </tr>\n",
       "    <tr>\n",
       "      <th>88312</th>\n",
       "      <td>Casual, Free to Play, Indie, Simulation, Sports</td>\n",
       "      <td>Real Pool 3D - Poolians</td>\n",
       "      <td>670290</td>\n",
       "      <td>0</td>\n",
       "      <td>0</td>\n",
       "      <td>0</td>\n",
       "      <td>0</td>\n",
       "      <td>1</td>\n",
       "      <td>0</td>\n",
       "      <td>0</td>\n",
       "      <td>...</td>\n",
       "      <td>0</td>\n",
       "      <td>0</td>\n",
       "      <td>1</td>\n",
       "      <td>0</td>\n",
       "      <td>1</td>\n",
       "      <td>0</td>\n",
       "      <td>0</td>\n",
       "      <td>0</td>\n",
       "      <td>0</td>\n",
       "      <td>2017</td>\n",
       "    </tr>\n",
       "    <tr>\n",
       "      <th>88313</th>\n",
       "      <td>Action, Adventure, Casual</td>\n",
       "      <td>弹炸人2222</td>\n",
       "      <td>767400</td>\n",
       "      <td>1</td>\n",
       "      <td>1</td>\n",
       "      <td>0</td>\n",
       "      <td>0</td>\n",
       "      <td>1</td>\n",
       "      <td>0</td>\n",
       "      <td>0</td>\n",
       "      <td>...</td>\n",
       "      <td>0</td>\n",
       "      <td>0</td>\n",
       "      <td>0</td>\n",
       "      <td>0</td>\n",
       "      <td>0</td>\n",
       "      <td>0</td>\n",
       "      <td>0</td>\n",
       "      <td>0</td>\n",
       "      <td>0</td>\n",
       "      <td>2017</td>\n",
       "    </tr>\n",
       "    <tr>\n",
       "      <th>88315</th>\n",
       "      <td>Action, Adventure, Simulation</td>\n",
       "      <td>Battle Royale Trainer</td>\n",
       "      <td>772540</td>\n",
       "      <td>1</td>\n",
       "      <td>1</td>\n",
       "      <td>0</td>\n",
       "      <td>0</td>\n",
       "      <td>0</td>\n",
       "      <td>0</td>\n",
       "      <td>0</td>\n",
       "      <td>...</td>\n",
       "      <td>0</td>\n",
       "      <td>0</td>\n",
       "      <td>1</td>\n",
       "      <td>0</td>\n",
       "      <td>0</td>\n",
       "      <td>0</td>\n",
       "      <td>0</td>\n",
       "      <td>0</td>\n",
       "      <td>0</td>\n",
       "      <td>2018</td>\n",
       "    </tr>\n",
       "    <tr>\n",
       "      <th>...</th>\n",
       "      <td>...</td>\n",
       "      <td>...</td>\n",
       "      <td>...</td>\n",
       "      <td>...</td>\n",
       "      <td>...</td>\n",
       "      <td>...</td>\n",
       "      <td>...</td>\n",
       "      <td>...</td>\n",
       "      <td>...</td>\n",
       "      <td>...</td>\n",
       "      <td>...</td>\n",
       "      <td>...</td>\n",
       "      <td>...</td>\n",
       "      <td>...</td>\n",
       "      <td>...</td>\n",
       "      <td>...</td>\n",
       "      <td>...</td>\n",
       "      <td>...</td>\n",
       "      <td>...</td>\n",
       "      <td>...</td>\n",
       "      <td>...</td>\n",
       "    </tr>\n",
       "    <tr>\n",
       "      <th>120439</th>\n",
       "      <td>Action, Adventure, Casual, Indie</td>\n",
       "      <td>Kebab it Up!</td>\n",
       "      <td>745400</td>\n",
       "      <td>1</td>\n",
       "      <td>1</td>\n",
       "      <td>0</td>\n",
       "      <td>0</td>\n",
       "      <td>1</td>\n",
       "      <td>0</td>\n",
       "      <td>0</td>\n",
       "      <td>...</td>\n",
       "      <td>0</td>\n",
       "      <td>0</td>\n",
       "      <td>0</td>\n",
       "      <td>0</td>\n",
       "      <td>0</td>\n",
       "      <td>0</td>\n",
       "      <td>0</td>\n",
       "      <td>0</td>\n",
       "      <td>0</td>\n",
       "      <td>2018</td>\n",
       "    </tr>\n",
       "    <tr>\n",
       "      <th>120440</th>\n",
       "      <td>Casual, Indie, Simulation, Strategy</td>\n",
       "      <td>Colony On Mars</td>\n",
       "      <td>773640</td>\n",
       "      <td>0</td>\n",
       "      <td>0</td>\n",
       "      <td>0</td>\n",
       "      <td>0</td>\n",
       "      <td>1</td>\n",
       "      <td>0</td>\n",
       "      <td>0</td>\n",
       "      <td>...</td>\n",
       "      <td>0</td>\n",
       "      <td>0</td>\n",
       "      <td>1</td>\n",
       "      <td>0</td>\n",
       "      <td>0</td>\n",
       "      <td>1</td>\n",
       "      <td>0</td>\n",
       "      <td>0</td>\n",
       "      <td>0</td>\n",
       "      <td>2018</td>\n",
       "    </tr>\n",
       "    <tr>\n",
       "      <th>120441</th>\n",
       "      <td>Casual, Indie, Strategy</td>\n",
       "      <td>LOGistICAL: South Africa</td>\n",
       "      <td>733530</td>\n",
       "      <td>0</td>\n",
       "      <td>0</td>\n",
       "      <td>0</td>\n",
       "      <td>0</td>\n",
       "      <td>1</td>\n",
       "      <td>0</td>\n",
       "      <td>0</td>\n",
       "      <td>...</td>\n",
       "      <td>0</td>\n",
       "      <td>0</td>\n",
       "      <td>0</td>\n",
       "      <td>0</td>\n",
       "      <td>0</td>\n",
       "      <td>1</td>\n",
       "      <td>0</td>\n",
       "      <td>0</td>\n",
       "      <td>0</td>\n",
       "      <td>2018</td>\n",
       "    </tr>\n",
       "    <tr>\n",
       "      <th>120442</th>\n",
       "      <td>Indie, Racing, Simulation</td>\n",
       "      <td>Russian Roads</td>\n",
       "      <td>610660</td>\n",
       "      <td>0</td>\n",
       "      <td>0</td>\n",
       "      <td>0</td>\n",
       "      <td>0</td>\n",
       "      <td>0</td>\n",
       "      <td>0</td>\n",
       "      <td>0</td>\n",
       "      <td>...</td>\n",
       "      <td>0</td>\n",
       "      <td>1</td>\n",
       "      <td>1</td>\n",
       "      <td>0</td>\n",
       "      <td>0</td>\n",
       "      <td>0</td>\n",
       "      <td>0</td>\n",
       "      <td>0</td>\n",
       "      <td>0</td>\n",
       "      <td>2018</td>\n",
       "    </tr>\n",
       "    <tr>\n",
       "      <th>120443</th>\n",
       "      <td>Casual, Indie</td>\n",
       "      <td>EXIT 2 - Directions</td>\n",
       "      <td>658870</td>\n",
       "      <td>0</td>\n",
       "      <td>0</td>\n",
       "      <td>0</td>\n",
       "      <td>0</td>\n",
       "      <td>1</td>\n",
       "      <td>0</td>\n",
       "      <td>0</td>\n",
       "      <td>...</td>\n",
       "      <td>0</td>\n",
       "      <td>0</td>\n",
       "      <td>0</td>\n",
       "      <td>0</td>\n",
       "      <td>0</td>\n",
       "      <td>0</td>\n",
       "      <td>0</td>\n",
       "      <td>0</td>\n",
       "      <td>0</td>\n",
       "      <td>2017</td>\n",
       "    </tr>\n",
       "  </tbody>\n",
       "</table>\n",
       "<p>22530 rows × 25 columns</p>\n",
       "</div>"
      ],
      "text/plain": [
       "                                                 genres  \\\n",
       "88310       Action, Casual, Indie, Simulation, Strategy   \n",
       "88311                Free to Play, Indie, RPG, Strategy   \n",
       "88312   Casual, Free to Play, Indie, Simulation, Sports   \n",
       "88313                         Action, Adventure, Casual   \n",
       "88315                     Action, Adventure, Simulation   \n",
       "...                                                 ...   \n",
       "120439                 Action, Adventure, Casual, Indie   \n",
       "120440              Casual, Indie, Simulation, Strategy   \n",
       "120441                          Casual, Indie, Strategy   \n",
       "120442                        Indie, Racing, Simulation   \n",
       "120443                                    Casual, Indie   \n",
       "\n",
       "                           title      id  Action  Adventure  \\\n",
       "88310        Lost Summoner Kitty  761140       1          0   \n",
       "88311                  Ironbound  643980       0          0   \n",
       "88312    Real Pool 3D - Poolians  670290       0          0   \n",
       "88313                    弹炸人2222  767400       1          1   \n",
       "88315      Battle Royale Trainer  772540       1          1   \n",
       "...                          ...     ...     ...        ...   \n",
       "120439              Kebab it Up!  745400       1          1   \n",
       "120440            Colony On Mars  773640       0          0   \n",
       "120441  LOGistICAL: South Africa  733530       0          0   \n",
       "120442             Russian Roads  610660       0          0   \n",
       "120443       EXIT 2 - Directions  658870       0          0   \n",
       "\n",
       "        Animation &amp; Modeling  Audio Production  Casual  \\\n",
       "88310                          0                 0       1   \n",
       "88311                          0                 0       0   \n",
       "88312                          0                 0       1   \n",
       "88313                          0                 0       1   \n",
       "88315                          0                 0       0   \n",
       "...                          ...               ...     ...   \n",
       "120439                         0                 0       1   \n",
       "120440                         0                 0       1   \n",
       "120441                         0                 0       1   \n",
       "120442                         0                 0       0   \n",
       "120443                         0                 0       1   \n",
       "\n",
       "        Design &amp; Illustration  Early Access  ...  RPG  Racing  Simulation  \\\n",
       "88310                           0             0  ...    0       0           1   \n",
       "88311                           0             0  ...    1       0           0   \n",
       "88312                           0             0  ...    0       0           1   \n",
       "88313                           0             0  ...    0       0           0   \n",
       "88315                           0             0  ...    0       0           1   \n",
       "...                           ...           ...  ...  ...     ...         ...   \n",
       "120439                          0             0  ...    0       0           0   \n",
       "120440                          0             0  ...    0       0           1   \n",
       "120441                          0             0  ...    0       0           0   \n",
       "120442                          0             0  ...    0       1           1   \n",
       "120443                          0             0  ...    0       0           0   \n",
       "\n",
       "        Software Training  Sports  Strategy  Utilities  Video Production  \\\n",
       "88310                   0       0         1          0                 0   \n",
       "88311                   0       0         1          0                 0   \n",
       "88312                   0       1         0          0                 0   \n",
       "88313                   0       0         0          0                 0   \n",
       "88315                   0       0         0          0                 0   \n",
       "...                   ...     ...       ...        ...               ...   \n",
       "120439                  0       0         0          0                 0   \n",
       "120440                  0       0         1          0                 0   \n",
       "120441                  0       0         1          0                 0   \n",
       "120442                  0       0         0          0                 0   \n",
       "120443                  0       0         0          0                 0   \n",
       "\n",
       "        Web Publishing  year  \n",
       "88310                0  2018  \n",
       "88311                0  2018  \n",
       "88312                0  2017  \n",
       "88313                0  2017  \n",
       "88315                0  2018  \n",
       "...                ...   ...  \n",
       "120439               0  2018  \n",
       "120440               0  2018  \n",
       "120441               0  2018  \n",
       "120442               0  2018  \n",
       "120443               0  2017  \n",
       "\n",
       "[22530 rows x 25 columns]"
      ]
     },
     "execution_count": 12,
     "metadata": {},
     "output_type": "execute_result"
    }
   ],
   "source": [
    "dfgames"
   ]
  },
  {
   "cell_type": "markdown",
   "metadata": {},
   "source": [
    "### Importamos a csv / We import to csv"
   ]
  },
  {
   "cell_type": "code",
   "execution_count": 13,
   "metadata": {},
   "outputs": [],
   "source": [
    "dfgames.to_csv('output_steam_games_clean.csv') "
   ]
  },
  {
   "cell_type": "markdown",
   "metadata": {},
   "source": [
    "## DataSet australian user reviews "
   ]
  },
  {
   "cell_type": "markdown",
   "metadata": {},
   "source": [
    "### Cargamos el archivo .json en un dataframe / We load the .json file into a dataframe"
   ]
  },
  {
   "cell_type": "code",
   "execution_count": 18,
   "metadata": {},
   "outputs": [
    {
     "data": {
      "text/html": [
       "<div>\n",
       "<style scoped>\n",
       "    .dataframe tbody tr th:only-of-type {\n",
       "        vertical-align: middle;\n",
       "    }\n",
       "\n",
       "    .dataframe tbody tr th {\n",
       "        vertical-align: top;\n",
       "    }\n",
       "\n",
       "    .dataframe thead th {\n",
       "        text-align: right;\n",
       "    }\n",
       "</style>\n",
       "<table border=\"1\" class=\"dataframe\">\n",
       "  <thead>\n",
       "    <tr style=\"text-align: right;\">\n",
       "      <th></th>\n",
       "      <th>user_id</th>\n",
       "      <th>user_url</th>\n",
       "      <th>reviews</th>\n",
       "    </tr>\n",
       "  </thead>\n",
       "  <tbody>\n",
       "    <tr>\n",
       "      <th>0</th>\n",
       "      <td>76561197970982479</td>\n",
       "      <td>http://steamcommunity.com/profiles/76561197970...</td>\n",
       "      <td>[{'funny': '', 'posted': 'Posted November 5, 2...</td>\n",
       "    </tr>\n",
       "    <tr>\n",
       "      <th>1</th>\n",
       "      <td>js41637</td>\n",
       "      <td>http://steamcommunity.com/id/js41637</td>\n",
       "      <td>[{'funny': '', 'posted': 'Posted June 24, 2014...</td>\n",
       "    </tr>\n",
       "    <tr>\n",
       "      <th>2</th>\n",
       "      <td>evcentric</td>\n",
       "      <td>http://steamcommunity.com/id/evcentric</td>\n",
       "      <td>[{'funny': '', 'posted': 'Posted February 3.',...</td>\n",
       "    </tr>\n",
       "    <tr>\n",
       "      <th>3</th>\n",
       "      <td>doctr</td>\n",
       "      <td>http://steamcommunity.com/id/doctr</td>\n",
       "      <td>[{'funny': '', 'posted': 'Posted October 14, 2...</td>\n",
       "    </tr>\n",
       "    <tr>\n",
       "      <th>4</th>\n",
       "      <td>maplemage</td>\n",
       "      <td>http://steamcommunity.com/id/maplemage</td>\n",
       "      <td>[{'funny': '3 people found this review funny',...</td>\n",
       "    </tr>\n",
       "  </tbody>\n",
       "</table>\n",
       "</div>"
      ],
      "text/plain": [
       "             user_id                                           user_url  \\\n",
       "0  76561197970982479  http://steamcommunity.com/profiles/76561197970...   \n",
       "1            js41637               http://steamcommunity.com/id/js41637   \n",
       "2          evcentric             http://steamcommunity.com/id/evcentric   \n",
       "3              doctr                 http://steamcommunity.com/id/doctr   \n",
       "4          maplemage             http://steamcommunity.com/id/maplemage   \n",
       "\n",
       "                                             reviews  \n",
       "0  [{'funny': '', 'posted': 'Posted November 5, 2...  \n",
       "1  [{'funny': '', 'posted': 'Posted June 24, 2014...  \n",
       "2  [{'funny': '', 'posted': 'Posted February 3.',...  \n",
       "3  [{'funny': '', 'posted': 'Posted October 14, 2...  \n",
       "4  [{'funny': '3 people found this review funny',...  "
      ]
     },
     "execution_count": 18,
     "metadata": {},
     "output_type": "execute_result"
    }
   ],
   "source": [
    "with open('australian_user_reviews.json', 'r', encoding='utf-8') as w:\n",
    "    data = w.readlines()\n",
    "    \n",
    "datos = [eval(line.strip()) for line in data]\n",
    "\n",
    "df_review = pd.DataFrame(datos)\n",
    "df_review.head()"
   ]
  },
  {
   "cell_type": "markdown",
   "metadata": {},
   "source": [
    "### Desanidamos la columna reviews / We unnested the reviews column"
   ]
  },
  {
   "cell_type": "code",
   "execution_count": 19,
   "metadata": {},
   "outputs": [],
   "source": [
    "df_reviewsOpen = df_review.explode('reviews') \n",
    "dfreviewsOpen = pd.concat([df_reviewsOpen.drop(['reviews'], axis=1), df_reviewsOpen['reviews'].apply(pd.Series)], axis=1) "
   ]
  },
  {
   "cell_type": "markdown",
   "metadata": {},
   "source": [
    "### Creo la columna year / I create the year column"
   ]
  },
  {
   "cell_type": "code",
   "execution_count": null,
   "metadata": {},
   "outputs": [],
   "source": [
    "dfreviewsOpen['posted year'] = dfreviewsOpen['posted'].str.extract(r'(\\d{4})')"
   ]
  },
  {
   "cell_type": "markdown",
   "metadata": {},
   "source": [
    "### Elimino la columna posted / I delete the posted column"
   ]
  },
  {
   "cell_type": "code",
   "execution_count": null,
   "metadata": {},
   "outputs": [],
   "source": [
    "dfreviewsOpen.drop('posted' , axis = 1, inplace = True)"
   ]
  },
  {
   "cell_type": "markdown",
   "metadata": {},
   "source": [
    "### Previsualizamos / We preview "
   ]
  },
  {
   "cell_type": "code",
   "execution_count": 21,
   "metadata": {},
   "outputs": [
    {
     "data": {
      "text/html": [
       "<div>\n",
       "<style scoped>\n",
       "    .dataframe tbody tr th:only-of-type {\n",
       "        vertical-align: middle;\n",
       "    }\n",
       "\n",
       "    .dataframe tbody tr th {\n",
       "        vertical-align: top;\n",
       "    }\n",
       "\n",
       "    .dataframe thead th {\n",
       "        text-align: right;\n",
       "    }\n",
       "</style>\n",
       "<table border=\"1\" class=\"dataframe\">\n",
       "  <thead>\n",
       "    <tr style=\"text-align: right;\">\n",
       "      <th></th>\n",
       "      <th>user_id</th>\n",
       "      <th>user_url</th>\n",
       "      <th>funny</th>\n",
       "      <th>last_edited</th>\n",
       "      <th>item_id</th>\n",
       "      <th>helpful</th>\n",
       "      <th>recommend</th>\n",
       "      <th>review</th>\n",
       "      <th>0</th>\n",
       "      <th>posted year</th>\n",
       "    </tr>\n",
       "  </thead>\n",
       "  <tbody>\n",
       "    <tr>\n",
       "      <th>0</th>\n",
       "      <td>76561197970982479</td>\n",
       "      <td>http://steamcommunity.com/profiles/76561197970...</td>\n",
       "      <td></td>\n",
       "      <td></td>\n",
       "      <td>1250</td>\n",
       "      <td>No ratings yet</td>\n",
       "      <td>True</td>\n",
       "      <td>Simple yet with great replayability. In my opi...</td>\n",
       "      <td>NaN</td>\n",
       "      <td>2011</td>\n",
       "    </tr>\n",
       "    <tr>\n",
       "      <th>0</th>\n",
       "      <td>76561197970982479</td>\n",
       "      <td>http://steamcommunity.com/profiles/76561197970...</td>\n",
       "      <td></td>\n",
       "      <td></td>\n",
       "      <td>22200</td>\n",
       "      <td>No ratings yet</td>\n",
       "      <td>True</td>\n",
       "      <td>It's unique and worth a playthrough.</td>\n",
       "      <td>NaN</td>\n",
       "      <td>2011</td>\n",
       "    </tr>\n",
       "    <tr>\n",
       "      <th>0</th>\n",
       "      <td>76561197970982479</td>\n",
       "      <td>http://steamcommunity.com/profiles/76561197970...</td>\n",
       "      <td></td>\n",
       "      <td></td>\n",
       "      <td>43110</td>\n",
       "      <td>No ratings yet</td>\n",
       "      <td>True</td>\n",
       "      <td>Great atmosphere. The gunplay can be a bit chu...</td>\n",
       "      <td>NaN</td>\n",
       "      <td>2011</td>\n",
       "    </tr>\n",
       "  </tbody>\n",
       "</table>\n",
       "</div>"
      ],
      "text/plain": [
       "             user_id                                           user_url funny  \\\n",
       "0  76561197970982479  http://steamcommunity.com/profiles/76561197970...         \n",
       "0  76561197970982479  http://steamcommunity.com/profiles/76561197970...         \n",
       "0  76561197970982479  http://steamcommunity.com/profiles/76561197970...         \n",
       "\n",
       "  last_edited item_id         helpful recommend  \\\n",
       "0                1250  No ratings yet      True   \n",
       "0               22200  No ratings yet      True   \n",
       "0               43110  No ratings yet      True   \n",
       "\n",
       "                                              review   0 posted year  \n",
       "0  Simple yet with great replayability. In my opi... NaN        2011  \n",
       "0               It's unique and worth a playthrough. NaN        2011  \n",
       "0  Great atmosphere. The gunplay can be a bit chu... NaN        2011  "
      ]
     },
     "execution_count": 21,
     "metadata": {},
     "output_type": "execute_result"
    }
   ],
   "source": [
    "dfreviewsOpen.head(3)"
   ]
  },
  {
   "cell_type": "markdown",
   "metadata": {},
   "source": [
    "### Realizamos el Sentiment analyzer con la galeria nlkt / We carry out the Sentiment analyzer with the nlkt gallery"
   ]
  },
  {
   "cell_type": "code",
   "execution_count": 23,
   "metadata": {},
   "outputs": [
    {
     "name": "stderr",
     "output_type": "stream",
     "text": [
      "[nltk_data] Downloading package vader_lexicon to\n",
      "[nltk_data]     C:\\Users\\alejo\\AppData\\Roaming\\nltk_data...\n"
     ]
    },
    {
     "name": "stdout",
     "output_type": "stream",
     "text": [
      "                 user_id                                           user_url  \\\n",
      "0      76561197970982479  http://steamcommunity.com/profiles/76561197970...   \n",
      "0      76561197970982479  http://steamcommunity.com/profiles/76561197970...   \n",
      "0      76561197970982479  http://steamcommunity.com/profiles/76561197970...   \n",
      "1                js41637               http://steamcommunity.com/id/js41637   \n",
      "1                js41637               http://steamcommunity.com/id/js41637   \n",
      "...                  ...                                                ...   \n",
      "25797  76561198312638244  http://steamcommunity.com/profiles/76561198312...   \n",
      "25797  76561198312638244  http://steamcommunity.com/profiles/76561198312...   \n",
      "25798        LydiaMorley           http://steamcommunity.com/id/LydiaMorley   \n",
      "25798        LydiaMorley           http://steamcommunity.com/id/LydiaMorley   \n",
      "25798        LydiaMorley           http://steamcommunity.com/id/LydiaMorley   \n",
      "\n",
      "                                  funny last_edited item_id  \\\n",
      "0                                                      1250   \n",
      "0                                                     22200   \n",
      "0                                                     43110   \n",
      "1                                                    251610   \n",
      "1                                                    227300   \n",
      "...                                 ...         ...     ...   \n",
      "25797                                                    70   \n",
      "25797                                                362890   \n",
      "25798  1 person found this review funny              273110   \n",
      "25798                                                   730   \n",
      "25798                                                   440   \n",
      "\n",
      "                                               helpful recommend  \\\n",
      "0                                       No ratings yet      True   \n",
      "0                                       No ratings yet      True   \n",
      "0                                       No ratings yet      True   \n",
      "1      15 of 20 people (75%) found this review helpful      True   \n",
      "1         0 of 1 people (0%) found this review helpful      True   \n",
      "...                                                ...       ...   \n",
      "25797                                   No ratings yet      True   \n",
      "25797                                   No ratings yet      True   \n",
      "25798    1 of 2 people (50%) found this review helpful      True   \n",
      "25798                                   No ratings yet      True   \n",
      "25798                                   No ratings yet      True   \n",
      "\n",
      "                                                  review   0 posted year  \\\n",
      "0      Simple yet with great replayability. In my opi... NaN        2011   \n",
      "0                   It's unique and worth a playthrough. NaN        2011   \n",
      "0      Great atmosphere. The gunplay can be a bit chu... NaN        2011   \n",
      "1      I know what you think when you see this title ... NaN        2014   \n",
      "1      For a simple (it's actually not all that simpl... NaN        2013   \n",
      "...                                                  ...  ..         ...   \n",
      "25797  a must have classic from steam definitely wort... NaN         NaN   \n",
      "25797  this game is a perfect remake of the original ... NaN         NaN   \n",
      "25798  had so much fun plaing this and collecting res... NaN         NaN   \n",
      "25798                                                 :D NaN         NaN   \n",
      "25798                                     so much fun :D NaN         NaN   \n",
      "\n",
      "       sentiment_score  \n",
      "0                    0  \n",
      "0                    0  \n",
      "0                    0  \n",
      "1                    0  \n",
      "1                    0  \n",
      "...                ...  \n",
      "25797                0  \n",
      "25797                0  \n",
      "25798                0  \n",
      "25798                0  \n",
      "25798                0  \n",
      "\n",
      "[59333 rows x 11 columns]\n"
     ]
    }
   ],
   "source": [
    "import nltk\n",
    "nltk.download('vader_lexicon')\n",
    "from nltk.sentiment.vader import SentimentIntensityAnalyzer\n",
    "\n",
    "# Inicializar el analizador de sentimientos / Initialize the sentiment analyzer\n",
    "sia = SentimentIntensityAnalyzer()\n",
    "\n",
    "# Función para asignar valores según la escala / Function to assign values according to the scale\n",
    "def get_sentiment_score(text):\n",
    "    if pd.isnull(text) or text == '':\n",
    "        return 1  # Return neutral if it is empty or NaN\n",
    "    elif isinstance(text, str):\n",
    "        sentiment = sia.polarity_scores(text)\n",
    "        compound_score = sentiment['compound']\n",
    "        if compound_score >= -0.05:\n",
    "            return 0  # Good score\n",
    "        elif compound_score <= -0.05:\n",
    "            return 2  # Bad score\n",
    "        else:\n",
    "            return 1\n",
    "    else:\n",
    "        return 1  # Return neutral for non-string values\n",
    "\n",
    "\n",
    "# Convertir la columna 'review' a tipo de dato str / Convertir la columna 'review' a tipo de dato str\n",
    "dfreviewsOpen['review'] = dfreviewsOpen['review'].astype(str)\n",
    "\n",
    "# Aplicar la función get_sentiment_score a la columna 'review' / Apply the get_sentiment_score function to the 'review' column\n",
    "dfreviewsOpen['sentiment_score'] = dfreviewsOpen['review'].apply(get_sentiment_score)\n",
    "\n",
    "# Imprimir el DataFrame actualizado / Print the updated DataFrame\n",
    "print(dfreviewsOpen)"
   ]
  },
  {
   "cell_type": "code",
   "execution_count": 24,
   "metadata": {},
   "outputs": [],
   "source": [
    "dfreviewsOpen.to_csv('australian_user_reviews_clean.csv') "
   ]
  },
  {
   "cell_type": "code",
   "execution_count": 25,
   "metadata": {},
   "outputs": [
    {
     "data": {
      "text/html": [
       "<div>\n",
       "<style scoped>\n",
       "    .dataframe tbody tr th:only-of-type {\n",
       "        vertical-align: middle;\n",
       "    }\n",
       "\n",
       "    .dataframe tbody tr th {\n",
       "        vertical-align: top;\n",
       "    }\n",
       "\n",
       "    .dataframe thead th {\n",
       "        text-align: right;\n",
       "    }\n",
       "</style>\n",
       "<table border=\"1\" class=\"dataframe\">\n",
       "  <thead>\n",
       "    <tr style=\"text-align: right;\">\n",
       "      <th></th>\n",
       "      <th>user_id</th>\n",
       "      <th>user_url</th>\n",
       "      <th>funny</th>\n",
       "      <th>last_edited</th>\n",
       "      <th>item_id</th>\n",
       "      <th>helpful</th>\n",
       "      <th>recommend</th>\n",
       "      <th>review</th>\n",
       "      <th>0</th>\n",
       "      <th>posted year</th>\n",
       "      <th>sentiment_score</th>\n",
       "    </tr>\n",
       "  </thead>\n",
       "  <tbody>\n",
       "    <tr>\n",
       "      <th>0</th>\n",
       "      <td>76561197970982479</td>\n",
       "      <td>http://steamcommunity.com/profiles/76561197970...</td>\n",
       "      <td></td>\n",
       "      <td></td>\n",
       "      <td>1250</td>\n",
       "      <td>No ratings yet</td>\n",
       "      <td>True</td>\n",
       "      <td>Simple yet with great replayability. In my opi...</td>\n",
       "      <td>NaN</td>\n",
       "      <td>2011</td>\n",
       "      <td>0</td>\n",
       "    </tr>\n",
       "    <tr>\n",
       "      <th>0</th>\n",
       "      <td>76561197970982479</td>\n",
       "      <td>http://steamcommunity.com/profiles/76561197970...</td>\n",
       "      <td></td>\n",
       "      <td></td>\n",
       "      <td>22200</td>\n",
       "      <td>No ratings yet</td>\n",
       "      <td>True</td>\n",
       "      <td>It's unique and worth a playthrough.</td>\n",
       "      <td>NaN</td>\n",
       "      <td>2011</td>\n",
       "      <td>0</td>\n",
       "    </tr>\n",
       "    <tr>\n",
       "      <th>0</th>\n",
       "      <td>76561197970982479</td>\n",
       "      <td>http://steamcommunity.com/profiles/76561197970...</td>\n",
       "      <td></td>\n",
       "      <td></td>\n",
       "      <td>43110</td>\n",
       "      <td>No ratings yet</td>\n",
       "      <td>True</td>\n",
       "      <td>Great atmosphere. The gunplay can be a bit chu...</td>\n",
       "      <td>NaN</td>\n",
       "      <td>2011</td>\n",
       "      <td>0</td>\n",
       "    </tr>\n",
       "  </tbody>\n",
       "</table>\n",
       "</div>"
      ],
      "text/plain": [
       "             user_id                                           user_url funny  \\\n",
       "0  76561197970982479  http://steamcommunity.com/profiles/76561197970...         \n",
       "0  76561197970982479  http://steamcommunity.com/profiles/76561197970...         \n",
       "0  76561197970982479  http://steamcommunity.com/profiles/76561197970...         \n",
       "\n",
       "  last_edited item_id         helpful recommend  \\\n",
       "0                1250  No ratings yet      True   \n",
       "0               22200  No ratings yet      True   \n",
       "0               43110  No ratings yet      True   \n",
       "\n",
       "                                              review   0 posted year  \\\n",
       "0  Simple yet with great replayability. In my opi... NaN        2011   \n",
       "0               It's unique and worth a playthrough. NaN        2011   \n",
       "0  Great atmosphere. The gunplay can be a bit chu... NaN        2011   \n",
       "\n",
       "   sentiment_score  \n",
       "0                0  \n",
       "0                0  \n",
       "0                0  "
      ]
     },
     "execution_count": 25,
     "metadata": {},
     "output_type": "execute_result"
    }
   ],
   "source": [
    "dfreviewsOpen.head(3)"
   ]
  },
  {
   "cell_type": "markdown",
   "metadata": {},
   "source": [
    "## DataSet australian user items "
   ]
  },
  {
   "cell_type": "markdown",
   "metadata": {},
   "source": [
    "### Leemos el archivo .json / We read the .json file"
   ]
  },
  {
   "cell_type": "code",
   "execution_count": 27,
   "metadata": {},
   "outputs": [
    {
     "data": {
      "text/html": [
       "<div>\n",
       "<style scoped>\n",
       "    .dataframe tbody tr th:only-of-type {\n",
       "        vertical-align: middle;\n",
       "    }\n",
       "\n",
       "    .dataframe tbody tr th {\n",
       "        vertical-align: top;\n",
       "    }\n",
       "\n",
       "    .dataframe thead th {\n",
       "        text-align: right;\n",
       "    }\n",
       "</style>\n",
       "<table border=\"1\" class=\"dataframe\">\n",
       "  <thead>\n",
       "    <tr style=\"text-align: right;\">\n",
       "      <th></th>\n",
       "      <th>user_id</th>\n",
       "      <th>items_count</th>\n",
       "      <th>steam_id</th>\n",
       "      <th>user_url</th>\n",
       "      <th>items</th>\n",
       "    </tr>\n",
       "  </thead>\n",
       "  <tbody>\n",
       "    <tr>\n",
       "      <th>0</th>\n",
       "      <td>76561197970982479</td>\n",
       "      <td>277</td>\n",
       "      <td>76561197970982479</td>\n",
       "      <td>http://steamcommunity.com/profiles/76561197970...</td>\n",
       "      <td>[{'item_id': '10', 'item_name': 'Counter-Strik...</td>\n",
       "    </tr>\n",
       "    <tr>\n",
       "      <th>1</th>\n",
       "      <td>js41637</td>\n",
       "      <td>888</td>\n",
       "      <td>76561198035864385</td>\n",
       "      <td>http://steamcommunity.com/id/js41637</td>\n",
       "      <td>[{'item_id': '10', 'item_name': 'Counter-Strik...</td>\n",
       "    </tr>\n",
       "    <tr>\n",
       "      <th>2</th>\n",
       "      <td>evcentric</td>\n",
       "      <td>137</td>\n",
       "      <td>76561198007712555</td>\n",
       "      <td>http://steamcommunity.com/id/evcentric</td>\n",
       "      <td>[{'item_id': '1200', 'item_name': 'Red Orchest...</td>\n",
       "    </tr>\n",
       "    <tr>\n",
       "      <th>3</th>\n",
       "      <td>Riot-Punch</td>\n",
       "      <td>328</td>\n",
       "      <td>76561197963445855</td>\n",
       "      <td>http://steamcommunity.com/id/Riot-Punch</td>\n",
       "      <td>[{'item_id': '10', 'item_name': 'Counter-Strik...</td>\n",
       "    </tr>\n",
       "    <tr>\n",
       "      <th>4</th>\n",
       "      <td>doctr</td>\n",
       "      <td>541</td>\n",
       "      <td>76561198002099482</td>\n",
       "      <td>http://steamcommunity.com/id/doctr</td>\n",
       "      <td>[{'item_id': '300', 'item_name': 'Day of Defea...</td>\n",
       "    </tr>\n",
       "  </tbody>\n",
       "</table>\n",
       "</div>"
      ],
      "text/plain": [
       "             user_id  items_count           steam_id  \\\n",
       "0  76561197970982479          277  76561197970982479   \n",
       "1            js41637          888  76561198035864385   \n",
       "2          evcentric          137  76561198007712555   \n",
       "3         Riot-Punch          328  76561197963445855   \n",
       "4              doctr          541  76561198002099482   \n",
       "\n",
       "                                            user_url  \\\n",
       "0  http://steamcommunity.com/profiles/76561197970...   \n",
       "1               http://steamcommunity.com/id/js41637   \n",
       "2             http://steamcommunity.com/id/evcentric   \n",
       "3            http://steamcommunity.com/id/Riot-Punch   \n",
       "4                 http://steamcommunity.com/id/doctr   \n",
       "\n",
       "                                               items  \n",
       "0  [{'item_id': '10', 'item_name': 'Counter-Strik...  \n",
       "1  [{'item_id': '10', 'item_name': 'Counter-Strik...  \n",
       "2  [{'item_id': '1200', 'item_name': 'Red Orchest...  \n",
       "3  [{'item_id': '10', 'item_name': 'Counter-Strik...  \n",
       "4  [{'item_id': '300', 'item_name': 'Day of Defea...  "
      ]
     },
     "execution_count": 27,
     "metadata": {},
     "output_type": "execute_result"
    }
   ],
   "source": [
    "with open(\"australian_users_items.json\", 'r', encoding='utf-8') as i:\n",
    "    data = i.readlines()\n",
    "    \n",
    "records = [eval(line.strip()) for line in data]\n",
    "\n",
    "df_item = pd.DataFrame(records)\n",
    "df_item.head()"
   ]
  },
  {
   "cell_type": "markdown",
   "metadata": {},
   "source": [
    "### Aplico la funcion lambda para desanidar las keys y sus valores / I apply the lambda function to unnest the keys and their values"
   ]
  },
  {
   "cell_type": "code",
   "execution_count": 28,
   "metadata": {},
   "outputs": [],
   "source": [
    "\n",
    "df_item['playtime_forever'] = df_item['items'].apply(lambda x: x[0].get('playtime_forever') if len(x) > 0 else 0)\n",
    "df_item['playtime_2weeks'] = df_item['items'].apply(lambda x: x[0].get('playtime_2weeks') if len(x) > 0 else 0)\n",
    "df_item['id'] = df_item['items'].apply(lambda x: x[0].get('item_id') if len(x) > 0 else 0)\n",
    "df_item['playtime_forever'] = df_item['playtime_forever'].astype(int)\n",
    "df_item['playtime_2weeks'] = df_item['playtime_2weeks'].astype(int)"
   ]
  },
  {
   "cell_type": "markdown",
   "metadata": {},
   "source": [
    "### Elimino columnas que no usare / I eliminate columns that I will not use"
   ]
  },
  {
   "cell_type": "code",
   "execution_count": 29,
   "metadata": {},
   "outputs": [],
   "source": [
    "df_item.drop(['user_url'], axis=1, inplace=True)  \n",
    "df_item.drop(['items'], axis=1, inplace=True)"
   ]
  },
  {
   "cell_type": "code",
   "execution_count": 30,
   "metadata": {},
   "outputs": [
    {
     "data": {
      "text/html": [
       "<div>\n",
       "<style scoped>\n",
       "    .dataframe tbody tr th:only-of-type {\n",
       "        vertical-align: middle;\n",
       "    }\n",
       "\n",
       "    .dataframe tbody tr th {\n",
       "        vertical-align: top;\n",
       "    }\n",
       "\n",
       "    .dataframe thead th {\n",
       "        text-align: right;\n",
       "    }\n",
       "</style>\n",
       "<table border=\"1\" class=\"dataframe\">\n",
       "  <thead>\n",
       "    <tr style=\"text-align: right;\">\n",
       "      <th></th>\n",
       "      <th>user_id</th>\n",
       "      <th>items_count</th>\n",
       "      <th>steam_id</th>\n",
       "      <th>playtime_forever</th>\n",
       "      <th>playtime_2weeks</th>\n",
       "      <th>id</th>\n",
       "    </tr>\n",
       "  </thead>\n",
       "  <tbody>\n",
       "    <tr>\n",
       "      <th>0</th>\n",
       "      <td>76561197970982479</td>\n",
       "      <td>277</td>\n",
       "      <td>76561197970982479</td>\n",
       "      <td>6</td>\n",
       "      <td>0</td>\n",
       "      <td>10</td>\n",
       "    </tr>\n",
       "    <tr>\n",
       "      <th>1</th>\n",
       "      <td>js41637</td>\n",
       "      <td>888</td>\n",
       "      <td>76561198035864385</td>\n",
       "      <td>0</td>\n",
       "      <td>0</td>\n",
       "      <td>10</td>\n",
       "    </tr>\n",
       "    <tr>\n",
       "      <th>2</th>\n",
       "      <td>evcentric</td>\n",
       "      <td>137</td>\n",
       "      <td>76561198007712555</td>\n",
       "      <td>923</td>\n",
       "      <td>0</td>\n",
       "      <td>1200</td>\n",
       "    </tr>\n",
       "    <tr>\n",
       "      <th>3</th>\n",
       "      <td>Riot-Punch</td>\n",
       "      <td>328</td>\n",
       "      <td>76561197963445855</td>\n",
       "      <td>0</td>\n",
       "      <td>0</td>\n",
       "      <td>10</td>\n",
       "    </tr>\n",
       "    <tr>\n",
       "      <th>4</th>\n",
       "      <td>doctr</td>\n",
       "      <td>541</td>\n",
       "      <td>76561198002099482</td>\n",
       "      <td>1131</td>\n",
       "      <td>0</td>\n",
       "      <td>300</td>\n",
       "    </tr>\n",
       "    <tr>\n",
       "      <th>...</th>\n",
       "      <td>...</td>\n",
       "      <td>...</td>\n",
       "      <td>...</td>\n",
       "      <td>...</td>\n",
       "      <td>...</td>\n",
       "      <td>...</td>\n",
       "    </tr>\n",
       "    <tr>\n",
       "      <th>88305</th>\n",
       "      <td>76561198323066619</td>\n",
       "      <td>22</td>\n",
       "      <td>76561198323066619</td>\n",
       "      <td>0</td>\n",
       "      <td>0</td>\n",
       "      <td>413850</td>\n",
       "    </tr>\n",
       "    <tr>\n",
       "      <th>88306</th>\n",
       "      <td>76561198326700687</td>\n",
       "      <td>177</td>\n",
       "      <td>76561198326700687</td>\n",
       "      <td>0</td>\n",
       "      <td>0</td>\n",
       "      <td>11020</td>\n",
       "    </tr>\n",
       "    <tr>\n",
       "      <th>88307</th>\n",
       "      <td>XxLaughingJackClown77xX</td>\n",
       "      <td>0</td>\n",
       "      <td>76561198328759259</td>\n",
       "      <td>0</td>\n",
       "      <td>0</td>\n",
       "      <td>0</td>\n",
       "    </tr>\n",
       "    <tr>\n",
       "      <th>88308</th>\n",
       "      <td>76561198329548331</td>\n",
       "      <td>7</td>\n",
       "      <td>76561198329548331</td>\n",
       "      <td>677</td>\n",
       "      <td>677</td>\n",
       "      <td>304930</td>\n",
       "    </tr>\n",
       "    <tr>\n",
       "      <th>88309</th>\n",
       "      <td>edward_tremethick</td>\n",
       "      <td>0</td>\n",
       "      <td>76561198331598578</td>\n",
       "      <td>0</td>\n",
       "      <td>0</td>\n",
       "      <td>0</td>\n",
       "    </tr>\n",
       "  </tbody>\n",
       "</table>\n",
       "<p>88310 rows × 6 columns</p>\n",
       "</div>"
      ],
      "text/plain": [
       "                       user_id  items_count           steam_id  \\\n",
       "0            76561197970982479          277  76561197970982479   \n",
       "1                      js41637          888  76561198035864385   \n",
       "2                    evcentric          137  76561198007712555   \n",
       "3                   Riot-Punch          328  76561197963445855   \n",
       "4                        doctr          541  76561198002099482   \n",
       "...                        ...          ...                ...   \n",
       "88305        76561198323066619           22  76561198323066619   \n",
       "88306        76561198326700687          177  76561198326700687   \n",
       "88307  XxLaughingJackClown77xX            0  76561198328759259   \n",
       "88308        76561198329548331            7  76561198329548331   \n",
       "88309        edward_tremethick            0  76561198331598578   \n",
       "\n",
       "       playtime_forever  playtime_2weeks      id  \n",
       "0                     6                0      10  \n",
       "1                     0                0      10  \n",
       "2                   923                0    1200  \n",
       "3                     0                0      10  \n",
       "4                  1131                0     300  \n",
       "...                 ...              ...     ...  \n",
       "88305                 0                0  413850  \n",
       "88306                 0                0   11020  \n",
       "88307                 0                0       0  \n",
       "88308               677              677  304930  \n",
       "88309                 0                0       0  \n",
       "\n",
       "[88310 rows x 6 columns]"
      ]
     },
     "execution_count": 30,
     "metadata": {},
     "output_type": "execute_result"
    }
   ],
   "source": [
    "df_item"
   ]
  },
  {
   "cell_type": "markdown",
   "metadata": {},
   "source": [
    "### Exportamos en formato csv / We export in csv format"
   ]
  },
  {
   "cell_type": "code",
   "execution_count": 31,
   "metadata": {},
   "outputs": [],
   "source": [
    "df_item.to_csv('australian_users_items_clean.csv', index=False)"
   ]
  },
  {
   "cell_type": "markdown",
   "metadata": {},
   "source": [
    "## Creacion de un unico dataset / Creation of a single dataset"
   ]
  },
  {
   "cell_type": "markdown",
   "metadata": {},
   "source": [
    "### Unimos tablas con id / We join tables with id"
   ]
  },
  {
   "cell_type": "code",
   "execution_count": 32,
   "metadata": {},
   "outputs": [],
   "source": [
    "\n",
    "merged_df = pd.merge(dfgames, df_item, on='id') "
   ]
  },
  {
   "cell_type": "markdown",
   "metadata": {},
   "source": [
    "### Borramos genres / We delete genres"
   ]
  },
  {
   "cell_type": "code",
   "execution_count": 33,
   "metadata": {},
   "outputs": [],
   "source": [
    "merged_df.drop(['genres'],axis=1, inplace=True) "
   ]
  },
  {
   "cell_type": "markdown",
   "metadata": {},
   "source": [
    "### Guardamos en csv / We save in csv"
   ]
  },
  {
   "cell_type": "code",
   "execution_count": 34,
   "metadata": {},
   "outputs": [],
   "source": [
    "merged_df.to_csv('Df_Final.csv', index=False) "
   ]
  },
  {
   "cell_type": "markdown",
   "metadata": {},
   "source": [
    "### Cargamos reviews / We load reviews"
   ]
  },
  {
   "cell_type": "code",
   "execution_count": 35,
   "metadata": {},
   "outputs": [],
   "source": [
    "df_review = pd.read_csv('australian_user_reviews_clean.csv') "
   ]
  },
  {
   "cell_type": "markdown",
   "metadata": {},
   "source": [
    "### Agruego reviews al merge anterior / I add reviews to the previous merge"
   ]
  },
  {
   "cell_type": "code",
   "execution_count": 36,
   "metadata": {},
   "outputs": [],
   "source": [
    "df_final = pd.merge(merged_df, df_review, on = 'user_id') "
   ]
  },
  {
   "cell_type": "code",
   "execution_count": 37,
   "metadata": {},
   "outputs": [
    {
     "data": {
      "text/plain": [
       "Index(['title', 'id', 'Action', 'Adventure', 'Animation &amp; Modeling',\n",
       "       'Audio Production', 'Casual', 'Design &amp; Illustration',\n",
       "       'Early Access', 'Education', 'Free to Play', 'Indie',\n",
       "       'Massively Multiplayer', 'Photo Editing', 'RPG', 'Racing', 'Simulation',\n",
       "       'Software Training', 'Sports', 'Strategy', 'Utilities',\n",
       "       'Video Production', 'Web Publishing', 'year', 'user_id', 'items_count',\n",
       "       'steam_id', 'playtime_forever', 'playtime_2weeks', 'Unnamed: 0',\n",
       "       'user_url', 'funny', 'last_edited', 'item_id', 'helpful', 'recommend',\n",
       "       'review', '0', 'posted year', 'sentiment_score'],\n",
       "      dtype='object')"
      ]
     },
     "execution_count": 37,
     "metadata": {},
     "output_type": "execute_result"
    }
   ],
   "source": [
    "df_final.columns"
   ]
  },
  {
   "cell_type": "markdown",
   "metadata": {},
   "source": [
    "### Borramos otras columnas que no vamos a utilizar / We delete other columns that we are not going to use"
   ]
  },
  {
   "cell_type": "code",
   "execution_count": 38,
   "metadata": {},
   "outputs": [],
   "source": [
    "df_final.drop(columns=['0', 'Unnamed: 0'], inplace=True)"
   ]
  },
  {
   "cell_type": "markdown",
   "metadata": {},
   "source": [
    "### Exportamos a csv / We export to csv"
   ]
  },
  {
   "cell_type": "code",
   "execution_count": 39,
   "metadata": {},
   "outputs": [],
   "source": [
    "df_final.to_csv('DataSet_Final.csv', index=False)"
   ]
  },
  {
   "cell_type": "markdown",
   "metadata": {},
   "source": [
    "### Creamos otro DataSet pero sin las columnas genre para utilizarlo en algunos procesos del EDA / We create another DataSet but without the genre columns to use it in some EDA processes  "
   ]
  },
  {
   "cell_type": "code",
   "execution_count": 40,
   "metadata": {},
   "outputs": [],
   "source": [
    "df_num= df_final.select_dtypes(include = (int,float))\n",
    "df_num.drop(columns=['Action', 'Adventure',\n",
    "       'Audio Production', 'Casual', 'Design &amp; Illustration',\n",
    "       'Early Access', 'Education', 'Free to Play', 'Indie', 'Animation &amp; Modeling',\n",
    "       'Massively Multiplayer', 'Photo Editing', 'RPG', 'Racing', 'Simulation',\n",
    "       'Software Training', 'Sports', 'Strategy', 'Utilities',\n",
    "       'Video Production', 'Web Publishing'], inplace=True)"
   ]
  },
  {
   "cell_type": "markdown",
   "metadata": {},
   "source": [
    "### Exportamos a csv / export to csv"
   ]
  },
  {
   "cell_type": "code",
   "execution_count": 42,
   "metadata": {},
   "outputs": [],
   "source": [
    "df_num.to_csv('DataSet_Final_Numerico.csv', index=False)"
   ]
  }
 ],
 "metadata": {
  "kernelspec": {
   "display_name": "Python 3",
   "language": "python",
   "name": "python3"
  },
  "language_info": {
   "codemirror_mode": {
    "name": "ipython",
    "version": 3
   },
   "file_extension": ".py",
   "mimetype": "text/x-python",
   "name": "python",
   "nbconvert_exporter": "python",
   "pygments_lexer": "ipython3",
   "version": "3.12.1"
  }
 },
 "nbformat": 4,
 "nbformat_minor": 2
}
